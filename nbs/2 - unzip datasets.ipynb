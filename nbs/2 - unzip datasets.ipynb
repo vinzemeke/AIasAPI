{
 "cells": [
  {
   "cell_type": "code",
   "execution_count": 7,
   "metadata": {},
   "outputs": [],
   "source": [
    "#downloads the dataset for the machine learning model\n",
    "import pathlib\n",
    "BASE_DIR = pathlib.Path().resolve()\n",
    "\n",
    "\n",
    "DATASET_DIR = BASE_DIR / 'datasets'\n",
    "ZIPS_DIR = DATASET_DIR / 'zips'\n",
    "ZIPS_DIR.mkdir  (exist_ok=True, parents=True)\n",
    "\n",
    "\n"
   ]
  },
  {
   "cell_type": "code",
   "execution_count": 12,
   "metadata": {},
   "outputs": [],
   "source": [
    "spam_classifier_dir = DATASET_DIR / \"spam-classifier\"\n",
    "sms_spam_dir = spam_classifier_dir /'spam-sms'\n",
    "youtube_spam_dir  =spam_classifier_dir / 'youtube-spam'\n"
   ]
  },
  {
   "cell_type": "code",
   "execution_count": 9,
   "metadata": {},
   "outputs": [
    {
     "name": "stderr",
     "output_type": "stream",
     "text": [
      "  % Total    % Received % Xferd  Average Speed   Time    Time     Time  Current\n",
      "                                 Dload  Upload   Total   Spent    Left  Speed\n",
      "\n",
      "  0     0    0     0    0     0      0      0 --:--:-- --:--:-- --:--:--     0\n",
      "100  198k  100  198k    0     0   336k      0 --:--:-- --:--:-- --:--:--  337k\n"
     ]
    }
   ],
   "source": [
    "\n",
    "\n",
    "SMS_SPAM_ZIP_PATH = ZIPS_DIR / 'sms-spam-dataset.zip'\n",
    "!curl https://archive.ics.uci.edu/ml/machine-learning-databases/00228/smsspamcollection.zip -o $SMS_SPAM_ZIP_PATH"
   ]
  },
  {
   "cell_type": "code",
   "execution_count": 10,
   "metadata": {},
   "outputs": [
    {
     "name": "stderr",
     "output_type": "stream",
     "text": [
      "  % Total    % Received % Xferd  Average Speed   Time    Time     Time  Current\n",
      "                                 Dload  Upload   Total   Spent    Left  Speed\n",
      "\n",
      "  0     0    0     0    0     0      0      0 --:--:-- --:--:-- --:--:--     0\n",
      "  0     0    0     0    0     0      0      0 --:--:-- --:--:-- --:--:--     0\n",
      "100  159k  100  159k    0     0   316k      0 --:--:-- --:--:-- --:--:--  316k\n"
     ]
    }
   ],
   "source": [
    "#getting youtube dataset\n",
    "\n",
    "YOUTUBE_SPAM_ZIP_PATH = ZIPS_DIR / 'youtube_spam_dataset.zip'\n",
    "!curl https://archive.ics.uci.edu/ml/machine-learning-databases/00380/YouTube-Spam-Collection-v1.zip -o $YOUTUBE_SPAM_ZIP_PATH"
   ]
  },
  {
   "cell_type": "code",
   "execution_count": 11,
   "metadata": {},
   "outputs": [
    {
     "name": "stderr",
     "output_type": "stream",
     "text": [
      "'unzip' is not recognized as an internal or external command,\n",
      "operable program or batch file.\n",
      "'unzip' is not recognized as an internal or external command,\n",
      "operable program or batch file.\n"
     ]
    }
   ],
   "source": [
    "#this part would not work on windows powershell because !unzip is a native bash script\n",
    "\n",
    "\n",
    "!unzip -o $YOUTUBE_SPAM_ZIP_PATH  -d $youtube_spam_dir\n",
    "!unzip -o $SMS_SPAM_ZIP_PATH  -d $youtube_spam_dir\n"
   ]
  }
 ],
 "metadata": {
  "interpreter": {
   "hash": "f57319737e2787a2998f7aafba83c30adb83576a6d7e7159049409dc3305a2f4"
  },
  "kernelspec": {
   "display_name": "Python 3 (ipykernel)",
   "language": "python",
   "name": "python3"
  },
  "language_info": {
   "codemirror_mode": {
    "name": "ipython",
    "version": 3
   },
   "file_extension": ".py",
   "mimetype": "text/x-python",
   "name": "python",
   "nbconvert_exporter": "python",
   "pygments_lexer": "ipython3",
   "version": "3.10.4"
  }
 },
 "nbformat": 4,
 "nbformat_minor": 2
}
